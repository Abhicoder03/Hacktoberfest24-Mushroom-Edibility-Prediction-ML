{
  "nbformat": 4,
  "nbformat_minor": 0,
  "metadata": {
    "colab": {
      "provenance": []
    },
    "kernelspec": {
      "name": "python3",
      "display_name": "Python 3"
    },
    "language_info": {
      "name": "python"
    }
  },
  "cells": [
    {
      "cell_type": "markdown",
      "source": [
        "# Data Preprocessing\n",
        "Data preprocessing is a critical step in machine learning that often determines the success of a model. We are seeking to enhance our data preprocessing in our machine learning project.\n",
        "\n",
        "## Objective\n",
        "Give the numerical representation of the categorical data such that it can be used for classification of whether a mushroom is 'poisonous' or 'edible'.\n",
        "\n",
        "## Tasks\n",
        "- Improve the data preprocessing workflow.\n",
        "- Data Cleaning & Transformation.\n",
        "- Feature Engineering.\n",
        "- Encoding of categorical data, and also provide reason behind the use of any particular encoding technique."
      ],
      "metadata": {
        "id": "5exX5BuIDQK5"
      }
    }
  ]
}